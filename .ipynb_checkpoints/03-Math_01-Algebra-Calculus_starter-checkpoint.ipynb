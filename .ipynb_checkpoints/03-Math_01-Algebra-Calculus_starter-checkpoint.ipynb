{
 "cells": [
  {
   "cell_type": "markdown",
   "id": "47c0d80e",
   "metadata": {},
   "source": [
    "# Algebra & Calculus"
   ]
  },
  {
   "cell_type": "code",
   "execution_count": null,
   "id": "57b0d360",
   "metadata": {},
   "outputs": [],
   "source": [
    "import numpy as np\n",
    "import matplotlib.pyplot as plt"
   ]
  },
  {
   "cell_type": "markdown",
   "id": "6997b438",
   "metadata": {},
   "source": [
    "## Recap `NumPy`"
   ]
  },
  {
   "cell_type": "code",
   "execution_count": null,
   "id": "e90630ca",
   "metadata": {},
   "outputs": [],
   "source": [
    "A = np.array([[1, 2],\n",
    "              [3, 4],\n",
    "              [5, 6],])"
   ]
  },
  {
   "cell_type": "code",
   "execution_count": null,
   "id": "fdd92fcc",
   "metadata": {},
   "outputs": [],
   "source": [
    "A"
   ]
  },
  {
   "cell_type": "markdown",
   "id": "7dbbf4e0",
   "metadata": {},
   "source": [
    "##### `type`, `shape`, `size`, `ndim`, `dtype`"
   ]
  },
  {
   "cell_type": "code",
   "execution_count": null,
   "id": "8dfea8d5",
   "metadata": {},
   "outputs": [],
   "source": [
    "type(A)"
   ]
  },
  {
   "cell_type": "code",
   "execution_count": null,
   "id": "a77f28b8",
   "metadata": {},
   "outputs": [],
   "source": [
    "A.shape"
   ]
  },
  {
   "cell_type": "code",
   "execution_count": null,
   "id": "f8f3652c",
   "metadata": {},
   "outputs": [],
   "source": [
    "A.size"
   ]
  },
  {
   "cell_type": "code",
   "execution_count": null,
   "id": "24a1e244",
   "metadata": {},
   "outputs": [],
   "source": [
    "A.ndim"
   ]
  },
  {
   "cell_type": "code",
   "execution_count": null,
   "id": "9350bc73",
   "metadata": {},
   "outputs": [],
   "source": [
    "A.dtype"
   ]
  },
  {
   "cell_type": "markdown",
   "id": "a302814d",
   "metadata": {},
   "source": [
    "##### `indexing`"
   ]
  },
  {
   "cell_type": "code",
   "execution_count": null,
   "id": "a574a7b9",
   "metadata": {},
   "outputs": [],
   "source": [
    "A"
   ]
  },
  {
   "cell_type": "code",
   "execution_count": null,
   "id": "93618aef",
   "metadata": {},
   "outputs": [],
   "source": []
  },
  {
   "cell_type": "markdown",
   "id": "dd6f4fb9",
   "metadata": {},
   "source": [
    "#### `slicing`"
   ]
  },
  {
   "cell_type": "code",
   "execution_count": null,
   "id": "457345ba",
   "metadata": {},
   "outputs": [],
   "source": []
  },
  {
   "cell_type": "markdown",
   "id": "13a8bc91",
   "metadata": {},
   "source": [
    "#### `boolean indexing`"
   ]
  },
  {
   "cell_type": "code",
   "execution_count": null,
   "id": "1f4f5a46",
   "metadata": {},
   "outputs": [],
   "source": [
    "  ## This is a boolean mask"
   ]
  },
  {
   "cell_type": "code",
   "execution_count": null,
   "id": "c8670122",
   "metadata": {},
   "outputs": [],
   "source": []
  },
  {
   "cell_type": "markdown",
   "id": "64709523",
   "metadata": {},
   "source": [
    "## 1. Algebra"
   ]
  },
  {
   "cell_type": "markdown",
   "id": "ddf85f55",
   "metadata": {},
   "source": [
    "### 1.1) Functions"
   ]
  },
  {
   "cell_type": "markdown",
   "id": "62cf4b60",
   "metadata": {},
   "source": [
    "#### Define function `square_plus_one`"
   ]
  },
  {
   "cell_type": "code",
   "execution_count": null,
   "id": "93f6f5c7",
   "metadata": {},
   "outputs": [],
   "source": [
    "def square_plus_one(x):\n",
    "    pass"
   ]
  },
  {
   "cell_type": "code",
   "execution_count": null,
   "id": "0987295b",
   "metadata": {},
   "outputs": [],
   "source": [
    "# with the lambda keyword"
   ]
  },
  {
   "cell_type": "markdown",
   "id": "68d8b0a8",
   "metadata": {},
   "source": [
    "#### Test `square_plus_one`"
   ]
  },
  {
   "cell_type": "code",
   "execution_count": null,
   "id": "225df76b",
   "metadata": {},
   "outputs": [],
   "source": [
    "for x in range(5):\n",
    "    print(x, \"👉\", square_plus_one(x))"
   ]
  },
  {
   "cell_type": "code",
   "execution_count": null,
   "id": "c0382753",
   "metadata": {},
   "outputs": [],
   "source": []
  },
  {
   "cell_type": "code",
   "execution_count": null,
   "id": "82467679",
   "metadata": {},
   "outputs": [],
   "source": [
    "# do it the \"NumPy\" way:\n",
    "x = np.arange(5)"
   ]
  },
  {
   "cell_type": "code",
   "execution_count": null,
   "id": "d138c3ee",
   "metadata": {},
   "outputs": [],
   "source": []
  },
  {
   "cell_type": "code",
   "execution_count": null,
   "id": "d9dbc6d3",
   "metadata": {},
   "outputs": [],
   "source": []
  },
  {
   "cell_type": "markdown",
   "id": "ec7443a1",
   "metadata": {},
   "source": [
    "#### Plot `square_plus_one` with `matplotlib.pyplot`"
   ]
  },
  {
   "cell_type": "code",
   "execution_count": null,
   "id": "68c8f91b",
   "metadata": {},
   "outputs": [],
   "source": [
    "x = np.linspace(-1, 3, 100)"
   ]
  },
  {
   "cell_type": "code",
   "execution_count": null,
   "id": "e98249b9",
   "metadata": {},
   "outputs": [],
   "source": []
  },
  {
   "cell_type": "code",
   "execution_count": null,
   "id": "a9bde7f1",
   "metadata": {},
   "outputs": [],
   "source": []
  },
  {
   "cell_type": "markdown",
   "id": "263804ad",
   "metadata": {},
   "source": [
    "#### Plot a multivariate function with `plotly`"
   ]
  },
  {
   "cell_type": "code",
   "execution_count": null,
   "id": "f280492d",
   "metadata": {},
   "outputs": [],
   "source": [
    "import plotly.graph_objects as go\n",
    "import numpy as np\n",
    "fun = lambda x, y: 2*x - 3*y + 7           # bivariate function\n",
    "x, y = np.meshgrid(range(10), range(10))   # grid of x's and y's\n",
    "z = fun(x, y)                              # z's\n",
    "fig = go.Figure(go.Surface(x=x, y=y, z=z)); fig.show()"
   ]
  },
  {
   "cell_type": "markdown",
   "id": "2a71ff01",
   "metadata": {},
   "source": [
    "**💡 Use shortcuts 👉 on Mac: drag with `Ctrl` (=Pan), `Option` (=Zoom) or `Cmd` (=Rotate)**"
   ]
  },
  {
   "cell_type": "markdown",
   "id": "94d486e7",
   "metadata": {},
   "source": [
    "### 1.2) Equations"
   ]
  },
  {
   "cell_type": "markdown",
   "id": "a68f2a69",
   "metadata": {},
   "source": [
    "### 1.3) Vectors"
   ]
  },
  {
   "cell_type": "code",
   "execution_count": null,
   "id": "24205bf1",
   "metadata": {},
   "outputs": [],
   "source": [
    "u = np.array([1, 2, 3])\n",
    "\n",
    "print(u.shape )\n",
    "u"
   ]
  },
  {
   "cell_type": "code",
   "execution_count": null,
   "id": "6deec907",
   "metadata": {},
   "outputs": [],
   "source": [
    "u_row = np.array([[1, 2, 3]])\n",
    "\n",
    "print(u_row.shape )\n",
    "u_row"
   ]
  },
  {
   "cell_type": "code",
   "execution_count": null,
   "id": "aa9a69eb",
   "metadata": {},
   "outputs": [],
   "source": [
    "u_column = np.array([[1], [2], [3]])\n",
    "\n",
    "print(u_column.shape )\n",
    "u_column"
   ]
  },
  {
   "cell_type": "code",
   "execution_count": null,
   "id": "1f9e4687",
   "metadata": {},
   "outputs": [],
   "source": []
  },
  {
   "cell_type": "code",
   "execution_count": null,
   "id": "5e23db13",
   "metadata": {},
   "outputs": [],
   "source": []
  },
  {
   "cell_type": "markdown",
   "id": "09b12019",
   "metadata": {},
   "source": [
    "#### Compute a `euclidean (L2) distance` in a 4D space\n"
   ]
  },
  {
   "cell_type": "code",
   "execution_count": null,
   "id": "bc3cce98",
   "metadata": {},
   "outputs": [],
   "source": [
    "a = np.array([1, 2, 3, 4])\n",
    "\n",
    "b = np.array([5, 5, 5, 5])"
   ]
  },
  {
   "cell_type": "markdown",
   "id": "15648ed6",
   "metadata": {},
   "source": [
    "$AB = ||\\boldsymbol b - \\boldsymbol a||_2 = \\sqrt{\\color {red}{(b_1 - a_1)}^2 \n",
    "+ \\color {teal}{(b_2 - a_2)}^2 \\;+ \\;... \\;+ \\;\\color {orange}{(b_n - a_n)}^2} = \\sqrt{\\sum_{i=1}^{n} (b_i - a_i)^2}$"
   ]
  },
  {
   "cell_type": "code",
   "execution_count": null,
   "id": "9ddd2090",
   "metadata": {},
   "outputs": [],
   "source": []
  },
  {
   "cell_type": "markdown",
   "id": "138ec9d9",
   "metadata": {},
   "source": [
    "#### 🔥 Dot product Vector • Vector 🔥 "
   ]
  },
  {
   "cell_type": "code",
   "execution_count": null,
   "id": "39dfa0bb",
   "metadata": {},
   "outputs": [],
   "source": [
    "a = np.array([1, 2, 3, 4])\n",
    "\n",
    "b = np.array([5, 5, 5, 5])"
   ]
  },
  {
   "cell_type": "code",
   "execution_count": null,
   "id": "d5efa178",
   "metadata": {},
   "outputs": [],
   "source": []
  },
  {
   "cell_type": "markdown",
   "id": "36cef8a8",
   "metadata": {},
   "source": [
    "### 1.4) Matrices"
   ]
  },
  {
   "cell_type": "code",
   "execution_count": null,
   "id": "a1ee52ec",
   "metadata": {},
   "outputs": [],
   "source": [
    "A = np.array([[1, 2, 3], \n",
    "              [0, 1, 2]])\n",
    "\n",
    "v = np.array([[4], \n",
    "              [5], \n",
    "              [6]])\n",
    "\n",
    "B = np.array([[4, 1, -1, 0], \n",
    "              [5, 0, 3, 2], \n",
    "              [6, 4, 0, 1]])"
   ]
  },
  {
   "cell_type": "code",
   "execution_count": null,
   "id": "0c8efed2",
   "metadata": {},
   "outputs": [],
   "source": []
  },
  {
   "cell_type": "markdown",
   "id": "8f6ea3b7",
   "metadata": {},
   "source": [
    "#### 🔥🔥 Matrix • Vector 🔥🔥 "
   ]
  },
  {
   "cell_type": "code",
   "execution_count": null,
   "id": "8e41dc7d",
   "metadata": {},
   "outputs": [],
   "source": [
    "A.shape, v.shape"
   ]
  },
  {
   "cell_type": "code",
   "execution_count": null,
   "id": "848832b2",
   "metadata": {},
   "outputs": [],
   "source": []
  },
  {
   "cell_type": "markdown",
   "id": "ce8a58a2",
   "metadata": {},
   "source": [
    "#### 🔥🔥🔥 Matrix • Matrix 🔥🔥🔥 "
   ]
  },
  {
   "cell_type": "code",
   "execution_count": null,
   "id": "3aeb02d7",
   "metadata": {},
   "outputs": [],
   "source": [
    "A.shape, B.shape"
   ]
  },
  {
   "cell_type": "code",
   "execution_count": null,
   "id": "a10bc0c0",
   "metadata": {},
   "outputs": [],
   "source": []
  },
  {
   "cell_type": "markdown",
   "id": "06c1440a",
   "metadata": {},
   "source": [
    "#### 💥 Shape incompatibility 💥"
   ]
  },
  {
   "cell_type": "code",
   "execution_count": null,
   "id": "702af7f9",
   "metadata": {},
   "outputs": [],
   "source": [
    "A.shape, B.shape"
   ]
  },
  {
   "cell_type": "code",
   "execution_count": null,
   "id": "98fe1a7d",
   "metadata": {},
   "outputs": [],
   "source": []
  },
  {
   "cell_type": "markdown",
   "id": "9d2976a5",
   "metadata": {},
   "source": [
    "### 1.5) Matrix multiplication 🤝 `data science`"
   ]
  },
  {
   "cell_type": "markdown",
   "id": "278f6a32",
   "metadata": {},
   "source": [
    "## 2) Calculus"
   ]
  },
  {
   "cell_type": "markdown",
   "id": "231f7e84",
   "metadata": {},
   "source": [
    "👇 This cell loads utilitary functions for the interactive ipywidget plots"
   ]
  },
  {
   "cell_type": "code",
   "execution_count": 2,
   "id": "5be80c86",
   "metadata": {},
   "outputs": [],
   "source": [
    "## uncomment this line if running on Colab:\n",
    "# !pip install matplotlib --upgrade"
   ]
  },
  {
   "cell_type": "code",
   "execution_count": null,
   "id": "c38c90b7",
   "metadata": {},
   "outputs": [],
   "source": [
    "import matplotlib.pyplot as plt\n",
    "import numpy as np\n",
    "from ipywidgets import interact\n",
    "\n",
    "## Function definition (and its derivative)\n",
    "\n",
    "fun = lambda x: - 0.25*x**3 + 2*x**2 - 4*x + 4  \n",
    "diff = lambda x: -0.75*x**2 + 4*x - 4  \n",
    "\n",
    "## Utilitary functions\n",
    "\n",
    "def draw_point(ax, fun, x, color):\n",
    "    xmin = ax.get_xlim()[0]\n",
    "    ymin = ax.get_ylim()[0]\n",
    "    plt.vlines(x, ymin=ymin, ymax=fun(x), colors=color, ls=\":\")\n",
    "    plt.hlines(fun(x), xmin=xmin, xmax=x, colors=color, ls=\":\")\n",
    "    plt.scatter(x, fun(x), c=color)\n",
    "\n",
    "def draw_line_and_points(ax, x1, x2):\n",
    "    draw_point(ax, fun, x1, color=\"crimson\")\n",
    "    draw_point(ax, fun, x2, color=\"darkslategray\")\n",
    "    plt.axline([x1, fun(x1)], [x2, fun(x2)], c=\"teal\")\n",
    "\n",
    "def plot_curve():\n",
    "    plt.figure(figsize=(8, 4))\n",
    "    x = np.linspace(-1, 6, 100)\n",
    "    plt.plot(x, fun(x), color=\"black\")\n",
    "\n",
    "def format_graph():\n",
    "    plt.xlim([-1, 6])\n",
    "    plt.ylim([-2, 10])\n",
    "    plt.ylabel(\"$f(x)$\")\n",
    "    plt.xlabel(\"$x$\")\n",
    "    \n",
    "def annotate_graph(a, h):\n",
    "    plt.text(a, 0, \"$a$\", ha=\"center\", c=\"r\", backgroundcolor=\"w\")\n",
    "    plt.text(a+h, -1.4, \"$a+h$\", ha=\"center\", c=\"darkslategray\", backgroundcolor=\"w\")\n",
    "    slope = (fun(a+h) - fun(a)) / h\n",
    "    frac_text = \"{f(a + h) - f(a)}{h}\"\n",
    "    plt.text(0, 8, f\"slope $=\\dfrac{frac_text} = {slope:.3f}$\", size=12, c=\"teal\")\n",
    "    plt.text(0, 6, f\"$f'(a)={diff(a):.3f}$\", size=12, c=\"crimson\")\n",
    "    \n",
    "from scipy.stats import norm\n",
    "\n",
    "def plot_curve_integral():\n",
    "    plt.figure(figsize=(8, 4))\n",
    "    x = np.linspace(-4, 4, 100)\n",
    "    plt.plot(x, norm.pdf(x))\n",
    "\n",
    "def draw_area(a, b):\n",
    "    x = np.linspace(-4, 4, 100)\n",
    "    interval = x[(x>=a) & (x<=b)]\n",
    "    plt.fill_between(interval, norm.pdf(interval), color='red')\n",
    "\n",
    "def annotate_graph_integral(a, b):\n",
    "    plt.ylabel(\"$f(x)$\")\n",
    "    plt.xlabel(\"$x$\")\n",
    "    plt.text(-4, 0.3, f\"$\\int_a^b f(x)dx={norm.cdf(b) - norm.cdf(a):.3f}$\", fontsize=14)\n"
   ]
  },
  {
   "cell_type": "markdown",
   "id": "83919c29",
   "metadata": {},
   "source": [
    "### 2.1) Derivatives"
   ]
  },
  {
   "cell_type": "markdown",
   "id": "891c47ea",
   "metadata": {},
   "source": [
    "👉 Let $f\\colon \\mathbb{R} \\to \\mathbb{R}$ a `continuous` function. The derivative is:\n",
    "$$f'(a) = \\frac{df}{dx}(a) = \\lim_{\\color{orange} {h \\to 0}}\\frac{f(a + \\color{orange} h) - f(a)}{\\color{orange} h}$$\n",
    "\n",
    "💡 Let's see with an interactive widget what this definition means! ⤵️\n"
   ]
  },
  {
   "cell_type": "code",
   "execution_count": null,
   "id": "b8171e54",
   "metadata": {},
   "outputs": [],
   "source": [
    "@interact(a=(-0.9, 4.49, 0.01), h=(0.01, 1.5, 0.01))\n",
    "def plot(a=2.5, h=1.5):\n",
    "    # plot the curve\n",
    "    plot_curve()\n",
    "    # draw the line and the two points\n",
    "    ax = plt.gca()\n",
    "    draw_line_and_points(ax, a, a + h)\n",
    "    # format and annotate the graph\n",
    "    format_graph()\n",
    "    annotate_graph(a, h)"
   ]
  },
  {
   "cell_type": "markdown",
   "id": "bd62de29",
   "metadata": {},
   "source": [
    "### 2.2) Partial derivatives"
   ]
  },
  {
   "cell_type": "markdown",
   "id": "485cbc92",
   "metadata": {},
   "source": [
    "Let $g\\colon \\mathbb{R^2} \\to \\mathbb{R}$\n",
    "$$g(x, y) = x^2 -y^2$$"
   ]
  },
  {
   "cell_type": "markdown",
   "id": "ac27ae32",
   "metadata": {},
   "source": [
    "👉 Let's visualize that curve ⤵️"
   ]
  },
  {
   "cell_type": "code",
   "execution_count": null,
   "id": "f2feaa5d",
   "metadata": {},
   "outputs": [],
   "source": [
    "import plotly.graph_objects as go\n",
    "\n",
    "fun = lambda x, y: x**2 - y**2\n",
    "x, y = np.meshgrid(np.linspace(-1, 1, 101), np.linspace(-1, 1, 101))\n",
    "z = fun(x, y)\n",
    "\n",
    "fig = go.Figure(go.Surface(x=x, y=y, z=z))\n",
    "fig.show()"
   ]
  },
  {
   "cell_type": "markdown",
   "id": "4b06f3e3",
   "metadata": {},
   "source": [
    "👉 Say you're standing on point P with: \n",
    "\n",
    "$\\color {crimson}{x_P=-0.8}$, $\\color {teal}{y_P=-0.2}$ and $z_P=0.6$\n",
    "\n",
    "At this point, we have:\n",
    "$$\\color {crimson}{\\frac{\\partial g}{\\partial x}}(x_P, y_P) = 2x_P = \\color {crimson}{-1.6} $$ \n",
    "$$\\color {teal}{\\frac{\\partial g}{\\partial y}}(x_P, y_P) = -2y_P = \\color {teal}{0.4} $$ \n",
    "\n",
    "What does it mean?\n",
    "<details>\n",
    "    <summary markdown='span'>💡 Answer</summary>\n",
    "\n",
    "When I'm standing on point P (which is on the surface): \n",
    "- if I go towards **ascending** $\\color {crimson}x$'s, $z$ **decreases** fast (-1.6 is **negative** & |-1.6| is *big*)\n",
    "- if I go towards **ascending** $\\color {teal} y$'s, $z$ **increases** slowly (0.2 is **positive** & *small*)\n",
    "</details>"
   ]
  },
  {
   "cell_type": "markdown",
   "id": "f9873ffb",
   "metadata": {},
   "source": [
    "### 2.3) Integrals"
   ]
  },
  {
   "cell_type": "markdown",
   "id": "6a55c628",
   "metadata": {},
   "source": [
    "👉 The integral of $\\color {orange}{f}$ from $\\color {crimson} a$ to $\\color {teal}b$ is denoted as:\n",
    "$$\\int_{\\color {crimson} a}^{\\color {teal}b} \\color {orange}{f}(x)dx$$\n",
    "\n",
    "💡 It can be viewed as the *area under the curve* $\\color {orange}{y=f(x)}$ delimited by the verticals $\\color {crimson} {x=a}$ and $\\color {teal} {x=b}$"
   ]
  },
  {
   "cell_type": "code",
   "execution_count": null,
   "id": "6417439d",
   "metadata": {},
   "outputs": [],
   "source": [
    "@interact(a=(-4, 4, 0.01), b=(-4, 4, 0.01))\n",
    "def plot_integral(a=-1, b=1):\n",
    "    # plot the curve\n",
    "    plot_curve_integral()\n",
    "    # plot the area\n",
    "    draw_area(a, b)\n",
    "    # annotate the graph\n",
    "    annotate_graph_integral(a, b)"
   ]
  }
 ],
 "metadata": {
  "kernelspec": {
   "display_name": "Python 3 (ipykernel)",
   "language": "python",
   "name": "python3"
  },
  "language_info": {
   "codemirror_mode": {
    "name": "ipython",
    "version": 3
   },
   "file_extension": ".py",
   "mimetype": "text/x-python",
   "name": "python",
   "nbconvert_exporter": "python",
   "pygments_lexer": "ipython3",
   "version": "3.10.6"
  },
  "toc": {
   "base_numbering": 1,
   "nav_menu": {},
   "number_sections": true,
   "sideBar": true,
   "skip_h1_title": false,
   "title_cell": "Table of Contents",
   "title_sidebar": "Contents",
   "toc_cell": false,
   "toc_position": {},
   "toc_section_display": true,
   "toc_window_display": false
  },
  "varInspector": {
   "cols": {
    "lenName": 16,
    "lenType": 16,
    "lenVar": 40
   },
   "kernels_config": {
    "python": {
     "delete_cmd_postfix": "",
     "delete_cmd_prefix": "del ",
     "library": "var_list.py",
     "varRefreshCmd": "print(var_dic_list())"
    },
    "r": {
     "delete_cmd_postfix": ") ",
     "delete_cmd_prefix": "rm(",
     "library": "var_list.r",
     "varRefreshCmd": "cat(var_dic_list()) "
    }
   },
   "types_to_exclude": [
    "module",
    "function",
    "builtin_function_or_method",
    "instance",
    "_Feature"
   ],
   "window_display": false
  },
  "vscode": {
   "interpreter": {
    "hash": "a8783e7c2a18747ae2bd1498f79a095ea483564422adedd0add03a25ebea4658"
   }
  }
 },
 "nbformat": 4,
 "nbformat_minor": 5
}
