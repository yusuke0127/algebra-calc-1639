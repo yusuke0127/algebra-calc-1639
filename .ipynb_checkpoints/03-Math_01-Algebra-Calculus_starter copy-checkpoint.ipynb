{
 "cells": [
  {
   "cell_type": "markdown",
   "id": "b5ab7f93",
   "metadata": {},
   "source": [
    "# Algebra & Calculus"
   ]
  },
  {
   "cell_type": "code",
   "execution_count": 1,
   "id": "b0b1fc93",
   "metadata": {},
   "outputs": [],
   "source": [
    "import numpy as np\n",
    "import matplotlib.pyplot as plt"
   ]
  },
  {
   "cell_type": "markdown",
   "id": "b440ceb5",
   "metadata": {},
   "source": [
    "## Recap `NumPy`"
   ]
  },
  {
   "cell_type": "code",
   "execution_count": 2,
   "id": "3d495840",
   "metadata": {},
   "outputs": [],
   "source": [
    "A = np.array([[1, 2],\n",
    "              [3, 4],\n",
    "              [5, 6],])"
   ]
  },
  {
   "cell_type": "code",
   "execution_count": 3,
   "id": "e0b8151a",
   "metadata": {},
   "outputs": [
    {
     "data": {
      "text/plain": [
       "array([[1, 2],\n",
       "       [3, 4],\n",
       "       [5, 6]])"
      ]
     },
     "execution_count": 3,
     "metadata": {},
     "output_type": "execute_result"
    }
   ],
   "source": [
    "A"
   ]
  },
  {
   "cell_type": "markdown",
   "id": "cb4a9b39",
   "metadata": {},
   "source": [
    "##### `type`, `shape`, `size`, `ndim`, `dtype`"
   ]
  },
  {
   "cell_type": "code",
   "execution_count": 4,
   "id": "017e438f",
   "metadata": {},
   "outputs": [
    {
     "data": {
      "text/plain": [
       "numpy.ndarray"
      ]
     },
     "execution_count": 4,
     "metadata": {},
     "output_type": "execute_result"
    }
   ],
   "source": [
    "type(A)"
   ]
  },
  {
   "cell_type": "code",
   "execution_count": null,
   "id": "f75682fb",
   "metadata": {},
   "outputs": [],
   "source": [
    "A.shape"
   ]
  },
  {
   "cell_type": "code",
   "execution_count": null,
   "id": "e7f1c782",
   "metadata": {},
   "outputs": [],
   "source": [
    "A.size"
   ]
  },
  {
   "cell_type": "code",
   "execution_count": null,
   "id": "2977272d",
   "metadata": {},
   "outputs": [],
   "source": [
    "A.ndim"
   ]
  },
  {
   "cell_type": "code",
   "execution_count": null,
   "id": "4e0c3704",
   "metadata": {},
   "outputs": [],
   "source": [
    "A.dtype"
   ]
  },
  {
   "cell_type": "markdown",
   "id": "f67d5c45",
   "metadata": {},
   "source": [
    "##### `indexing`"
   ]
  },
  {
   "cell_type": "code",
   "execution_count": null,
   "id": "fe3dfc7d",
   "metadata": {},
   "outputs": [],
   "source": [
    "A"
   ]
  },
  {
   "cell_type": "code",
   "execution_count": null,
   "id": "15d2d1cf",
   "metadata": {},
   "outputs": [],
   "source": []
  },
  {
   "cell_type": "markdown",
   "id": "26351760",
   "metadata": {},
   "source": [
    "#### `slicing`"
   ]
  },
  {
   "cell_type": "code",
   "execution_count": null,
   "id": "4eec2287",
   "metadata": {},
   "outputs": [],
   "source": []
  },
  {
   "cell_type": "markdown",
   "id": "2e4edd6c",
   "metadata": {},
   "source": [
    "#### `boolean indexing`"
   ]
  },
  {
   "cell_type": "code",
   "execution_count": null,
   "id": "fd2bae06",
   "metadata": {},
   "outputs": [],
   "source": [
    "  ## This is a boolean mask"
   ]
  },
  {
   "cell_type": "code",
   "execution_count": null,
   "id": "15e2826a",
   "metadata": {},
   "outputs": [],
   "source": []
  },
  {
   "cell_type": "markdown",
   "id": "df0e7bb8",
   "metadata": {},
   "source": [
    "## 1. Algebra"
   ]
  },
  {
   "cell_type": "markdown",
   "id": "deeab6fc",
   "metadata": {},
   "source": [
    "### 1.1) Functions"
   ]
  },
  {
   "cell_type": "markdown",
   "id": "cf6f0a84",
   "metadata": {},
   "source": [
    "#### Define function `square_plus_one`"
   ]
  },
  {
   "cell_type": "code",
   "execution_count": null,
   "id": "2a379b5e",
   "metadata": {},
   "outputs": [],
   "source": [
    "def square_plus_one(x):\n",
    "    pass"
   ]
  },
  {
   "cell_type": "code",
   "execution_count": null,
   "id": "9c6bfb92",
   "metadata": {},
   "outputs": [],
   "source": [
    "# with the lambda keyword"
   ]
  },
  {
   "cell_type": "markdown",
   "id": "57c96889",
   "metadata": {},
   "source": [
    "#### Test `square_plus_one`"
   ]
  },
  {
   "cell_type": "code",
   "execution_count": null,
   "id": "213374a6",
   "metadata": {},
   "outputs": [],
   "source": [
    "for x in range(5):\n",
    "    print(x, \"👉\", square_plus_one(x))"
   ]
  },
  {
   "cell_type": "code",
   "execution_count": null,
   "id": "16aff3f1",
   "metadata": {},
   "outputs": [],
   "source": []
  },
  {
   "cell_type": "code",
   "execution_count": null,
   "id": "43ed895d",
   "metadata": {},
   "outputs": [],
   "source": [
    "# do it the \"NumPy\" way:\n",
    "x = np.arange(5)"
   ]
  },
  {
   "cell_type": "code",
   "execution_count": null,
   "id": "e4b01323",
   "metadata": {},
   "outputs": [],
   "source": []
  },
  {
   "cell_type": "code",
   "execution_count": null,
   "id": "a4c47913",
   "metadata": {},
   "outputs": [],
   "source": []
  },
  {
   "cell_type": "markdown",
   "id": "67fa99d7",
   "metadata": {},
   "source": [
    "#### Plot `square_plus_one` with `matplotlib.pyplot`"
   ]
  },
  {
   "cell_type": "code",
   "execution_count": null,
   "id": "22d4a884",
   "metadata": {},
   "outputs": [],
   "source": [
    "x = np.linspace(-1, 3, 100)"
   ]
  },
  {
   "cell_type": "code",
   "execution_count": null,
   "id": "16594740",
   "metadata": {},
   "outputs": [],
   "source": []
  },
  {
   "cell_type": "code",
   "execution_count": null,
   "id": "734a5efb",
   "metadata": {},
   "outputs": [],
   "source": []
  },
  {
   "cell_type": "markdown",
   "id": "463ed702",
   "metadata": {},
   "source": [
    "#### Plot a multivariate function with `plotly`"
   ]
  },
  {
   "cell_type": "code",
   "execution_count": null,
   "id": "dbc7a068",
   "metadata": {},
   "outputs": [],
   "source": [
    "import plotly.graph_objects as go\n",
    "import numpy as np\n",
    "fun = lambda x, y: 2*x - 3*y + 7           # bivariate function\n",
    "x, y = np.meshgrid(range(10), range(10))   # grid of x's and y's\n",
    "z = fun(x, y)                              # z's\n",
    "fig = go.Figure(go.Surface(x=x, y=y, z=z)); fig.show()"
   ]
  },
  {
   "cell_type": "markdown",
   "id": "0f1ddd59",
   "metadata": {},
   "source": [
    "**💡 Use shortcuts 👉 on Mac: drag with `Ctrl` (=Pan), `Option` (=Zoom) or `Cmd` (=Rotate)**"
   ]
  },
  {
   "cell_type": "markdown",
   "id": "40a8d4b1",
   "metadata": {},
   "source": [
    "### 1.2) Equations"
   ]
  },
  {
   "cell_type": "markdown",
   "id": "88a0a56b",
   "metadata": {},
   "source": [
    "### 1.3) Vectors"
   ]
  },
  {
   "cell_type": "code",
   "execution_count": null,
   "id": "914fc51f",
   "metadata": {},
   "outputs": [],
   "source": [
    "u = np.array([1, 2, 3])\n",
    "\n",
    "print(u.shape )\n",
    "u"
   ]
  },
  {
   "cell_type": "code",
   "execution_count": null,
   "id": "ef4cd5f3",
   "metadata": {},
   "outputs": [],
   "source": [
    "u_row = np.array([[1, 2, 3]])\n",
    "\n",
    "print(u_row.shape )\n",
    "u_row"
   ]
  },
  {
   "cell_type": "code",
   "execution_count": null,
   "id": "bf98105c",
   "metadata": {},
   "outputs": [],
   "source": [
    "u_column = np.array([[1], [2], [3]])\n",
    "\n",
    "print(u_column.shape )\n",
    "u_column"
   ]
  },
  {
   "cell_type": "code",
   "execution_count": null,
   "id": "cc718900",
   "metadata": {},
   "outputs": [],
   "source": []
  },
  {
   "cell_type": "code",
   "execution_count": null,
   "id": "28a356f9",
   "metadata": {},
   "outputs": [],
   "source": []
  },
  {
   "cell_type": "markdown",
   "id": "067ee6e3",
   "metadata": {},
   "source": [
    "#### Compute a `euclidean (L2) distance` in a 4D space\n"
   ]
  },
  {
   "cell_type": "code",
   "execution_count": null,
   "id": "60e3756a",
   "metadata": {},
   "outputs": [],
   "source": [
    "a = np.array([1, 2, 3, 4])\n",
    "\n",
    "b = np.array([5, 5, 5, 5])"
   ]
  },
  {
   "cell_type": "markdown",
   "id": "7420339f",
   "metadata": {},
   "source": [
    "$AB = ||\\boldsymbol b - \\boldsymbol a||_2 = \\sqrt{\\color {red}{(b_1 - a_1)}^2 \n",
    "+ \\color {teal}{(b_2 - a_2)}^2 \\;+ \\;... \\;+ \\;\\color {orange}{(b_n - a_n)}^2} = \\sqrt{\\sum_{i=1}^{n} (b_i - a_i)^2}$"
   ]
  },
  {
   "cell_type": "code",
   "execution_count": null,
   "id": "1e33277c",
   "metadata": {},
   "outputs": [],
   "source": []
  },
  {
   "cell_type": "markdown",
   "id": "cc9f2e8c",
   "metadata": {},
   "source": [
    "#### 🔥 Dot product Vector • Vector 🔥 "
   ]
  },
  {
   "cell_type": "code",
   "execution_count": null,
   "id": "08c38fc1",
   "metadata": {},
   "outputs": [],
   "source": [
    "a = np.array([1, 2, 3, 4])\n",
    "\n",
    "b = np.array([5, 5, 5, 5])"
   ]
  },
  {
   "cell_type": "code",
   "execution_count": null,
   "id": "ed163ac6",
   "metadata": {},
   "outputs": [],
   "source": []
  },
  {
   "cell_type": "markdown",
   "id": "96ef1680",
   "metadata": {},
   "source": [
    "### 1.4) Matrices"
   ]
  },
  {
   "cell_type": "code",
   "execution_count": null,
   "id": "af325eea",
   "metadata": {},
   "outputs": [],
   "source": [
    "A = np.array([[1, 2, 3], \n",
    "              [0, 1, 2]])\n",
    "\n",
    "v = np.array([[4], \n",
    "              [5], \n",
    "              [6]])\n",
    "\n",
    "B = np.array([[4, 1, -1, 0], \n",
    "              [5, 0, 3, 2], \n",
    "              [6, 4, 0, 1]])"
   ]
  },
  {
   "cell_type": "code",
   "execution_count": null,
   "id": "779bade8",
   "metadata": {},
   "outputs": [],
   "source": []
  },
  {
   "cell_type": "markdown",
   "id": "b0b17e34",
   "metadata": {},
   "source": [
    "#### 🔥🔥 Matrix • Vector 🔥🔥 "
   ]
  },
  {
   "cell_type": "code",
   "execution_count": null,
   "id": "c9bc1044",
   "metadata": {},
   "outputs": [],
   "source": [
    "A.shape, v.shape"
   ]
  },
  {
   "cell_type": "code",
   "execution_count": null,
   "id": "5cba5598",
   "metadata": {},
   "outputs": [],
   "source": []
  },
  {
   "cell_type": "markdown",
   "id": "a417f669",
   "metadata": {},
   "source": [
    "#### 🔥🔥🔥 Matrix • Matrix 🔥🔥🔥 "
   ]
  },
  {
   "cell_type": "code",
   "execution_count": null,
   "id": "327d0a87",
   "metadata": {},
   "outputs": [],
   "source": [
    "A.shape, B.shape"
   ]
  },
  {
   "cell_type": "code",
   "execution_count": null,
   "id": "a8db9ff1",
   "metadata": {},
   "outputs": [],
   "source": []
  },
  {
   "cell_type": "markdown",
   "id": "706b51a3",
   "metadata": {},
   "source": [
    "#### 💥 Shape incompatibility 💥"
   ]
  },
  {
   "cell_type": "code",
   "execution_count": null,
   "id": "0c2965f3",
   "metadata": {},
   "outputs": [],
   "source": [
    "A.shape, B.shape"
   ]
  },
  {
   "cell_type": "code",
   "execution_count": null,
   "id": "cc2fa56c",
   "metadata": {},
   "outputs": [],
   "source": []
  },
  {
   "cell_type": "markdown",
   "id": "ecfb0113",
   "metadata": {},
   "source": [
    "### 1.5) Matrix multiplication 🤝 `data science`"
   ]
  },
  {
   "cell_type": "markdown",
   "id": "9d67115e",
   "metadata": {},
   "source": [
    "## 2) Calculus"
   ]
  },
  {
   "cell_type": "markdown",
   "id": "231f7e84",
   "metadata": {},
   "source": [
    "👇 This cell loads utilitary functions for the interactive ipywidget plots"
   ]
  },
  {
   "cell_type": "code",
   "execution_count": 2,
   "id": "5be80c86",
   "metadata": {},
   "outputs": [],
   "source": [
    "## uncomment this line if running on Colab:\n",
    "# !pip install matplotlib --upgrade"
   ]
  },
  {
   "cell_type": "code",
   "execution_count": null,
   "id": "c38c90b7",
   "metadata": {},
   "outputs": [],
   "source": [
    "import matplotlib.pyplot as plt\n",
    "import numpy as np\n",
    "from ipywidgets import interact\n",
    "\n",
    "## Function definition (and its derivative)\n",
    "\n",
    "fun = lambda x: - 0.25*x**3 + 2*x**2 - 4*x + 4  \n",
    "diff = lambda x: -0.75*x**2 + 4*x - 4  \n",
    "\n",
    "## Utilitary functions\n",
    "\n",
    "def draw_point(ax, fun, x, color):\n",
    "    xmin = ax.get_xlim()[0]\n",
    "    ymin = ax.get_ylim()[0]\n",
    "    plt.vlines(x, ymin=ymin, ymax=fun(x), colors=color, ls=\":\")\n",
    "    plt.hlines(fun(x), xmin=xmin, xmax=x, colors=color, ls=\":\")\n",
    "    plt.scatter(x, fun(x), c=color)\n",
    "\n",
    "def draw_line_and_points(ax, x1, x2):\n",
    "    draw_point(ax, fun, x1, color=\"crimson\")\n",
    "    draw_point(ax, fun, x2, color=\"darkslategray\")\n",
    "    plt.axline([x1, fun(x1)], [x2, fun(x2)], c=\"teal\")\n",
    "\n",
    "def plot_curve():\n",
    "    plt.figure(figsize=(8, 4))\n",
    "    x = np.linspace(-1, 6, 100)\n",
    "    plt.plot(x, fun(x), color=\"black\")\n",
    "\n",
    "def format_graph():\n",
    "    plt.xlim([-1, 6])\n",
    "    plt.ylim([-2, 10])\n",
    "    plt.ylabel(\"$f(x)$\")\n",
    "    plt.xlabel(\"$x$\")\n",
    "    \n",
    "def annotate_graph(a, h):\n",
    "    plt.text(a, 0, \"$a$\", ha=\"center\", c=\"r\", backgroundcolor=\"w\")\n",
    "    plt.text(a+h, -1.4, \"$a+h$\", ha=\"center\", c=\"darkslategray\", backgroundcolor=\"w\")\n",
    "    slope = (fun(a+h) - fun(a)) / h\n",
    "    frac_text = \"{f(a + h) - f(a)}{h}\"\n",
    "    plt.text(0, 8, f\"slope $=\\dfrac{frac_text} = {slope:.3f}$\", size=12, c=\"teal\")\n",
    "    plt.text(0, 6, f\"$f'(a)={diff(a):.3f}$\", size=12, c=\"crimson\")\n",
    "    \n",
    "from scipy.stats import norm\n",
    "\n",
    "def plot_curve_integral():\n",
    "    plt.figure(figsize=(8, 4))\n",
    "    x = np.linspace(-4, 4, 100)\n",
    "    plt.plot(x, norm.pdf(x))\n",
    "\n",
    "def draw_area(a, b):\n",
    "    x = np.linspace(-4, 4, 100)\n",
    "    interval = x[(x>=a) & (x<=b)]\n",
    "    plt.fill_between(interval, norm.pdf(interval), color='red')\n",
    "\n",
    "def annotate_graph_integral(a, b):\n",
    "    plt.ylabel(\"$f(x)$\")\n",
    "    plt.xlabel(\"$x$\")\n",
    "    plt.text(-4, 0.3, f\"$\\int_a^b f(x)dx={norm.cdf(b) - norm.cdf(a):.3f}$\", fontsize=14)\n"
   ]
  },
  {
   "cell_type": "markdown",
   "id": "bf06072a",
   "metadata": {},
   "source": [
    "### 2.1) Derivatives"
   ]
  },
  {
   "cell_type": "markdown",
   "id": "49b70f70",
   "metadata": {},
   "source": [
    "👉 Let $f\\colon \\mathbb{R} \\to \\mathbb{R}$ a `continuous` function. The derivative is:\n",
    "$$f'(a) = \\frac{df}{dx}(a) = \\lim_{\\color{orange} {h \\to 0}}\\frac{f(a + \\color{orange} h) - f(a)}{\\color{orange} h}$$\n",
    "\n",
    "💡 Let's see with an interactive widget what this definition means! ⤵️\n"
   ]
  },
  {
   "cell_type": "code",
   "execution_count": null,
   "id": "89060e32",
   "metadata": {},
   "outputs": [],
   "source": [
    "@interact(a=(-0.9, 4.49, 0.01), h=(0.01, 1.5, 0.01))\n",
    "def plot(a=2.5, h=1.5):\n",
    "    # plot the curve\n",
    "    plot_curve()\n",
    "    # draw the line and the two points\n",
    "    ax = plt.gca()\n",
    "    draw_line_and_points(ax, a, a + h)\n",
    "    # format and annotate the graph\n",
    "    format_graph()\n",
    "    annotate_graph(a, h)"
   ]
  },
  {
   "cell_type": "markdown",
   "id": "799580e2",
   "metadata": {},
   "source": [
    "### 2.2) Partial derivatives"
   ]
  },
  {
   "cell_type": "markdown",
   "id": "07f7dfef",
   "metadata": {},
   "source": [
    "Let $g\\colon \\mathbb{R^2} \\to \\mathbb{R}$\n",
    "$$g(x, y) = x^2 -y^2$$"
   ]
  },
  {
   "cell_type": "markdown",
   "id": "ff459d6f",
   "metadata": {},
   "source": [
    "👉 Let's visualize that curve ⤵️"
   ]
  },
  {
   "cell_type": "code",
   "execution_count": null,
   "id": "04e8e703",
   "metadata": {},
   "outputs": [],
   "source": [
    "import plotly.graph_objects as go\n",
    "\n",
    "fun = lambda x, y: x**2 - y**2\n",
    "x, y = np.meshgrid(np.linspace(-1, 1, 101), np.linspace(-1, 1, 101))\n",
    "z = fun(x, y)\n",
    "\n",
    "fig = go.Figure(go.Surface(x=x, y=y, z=z))\n",
    "fig.show()"
   ]
  },
  {
   "cell_type": "markdown",
   "id": "42d365fa",
   "metadata": {},
   "source": [
    "👉 Say you're standing on point P with: \n",
    "\n",
    "$\\color {crimson}{x_P=-0.8}$, $\\color {teal}{y_P=-0.2}$ and $z_P=0.6$\n",
    "\n",
    "At this point, we have:\n",
    "$$\\color {crimson}{\\frac{\\partial g}{\\partial x}}(x_P, y_P) = 2x_P = \\color {crimson}{-1.6} $$ \n",
    "$$\\color {teal}{\\frac{\\partial g}{\\partial y}}(x_P, y_P) = -2y_P = \\color {teal}{0.4} $$ \n",
    "\n",
    "What does it mean?\n",
    "<details>\n",
    "    <summary markdown='span'>💡 Answer</summary>\n",
    "\n",
    "When I'm standing on point P (which is on the surface): \n",
    "- if I go towards **ascending** $\\color {crimson}x$'s, $z$ **decreases** fast (-1.6 is **negative** & |-1.6| is *big*)\n",
    "- if I go towards **ascending** $\\color {teal} y$'s, $z$ **increases** slowly (0.2 is **positive** & *small*)\n",
    "</details>"
   ]
  },
  {
   "cell_type": "markdown",
   "id": "9be308bc",
   "metadata": {},
   "source": [
    "### 2.3) Integrals"
   ]
  },
  {
   "cell_type": "markdown",
   "id": "72cab807",
   "metadata": {},
   "source": [
    "👉 The integral of $\\color {orange}{f}$ from $\\color {crimson} a$ to $\\color {teal}b$ is denoted as:\n",
    "$$\\int_{\\color {crimson} a}^{\\color {teal}b} \\color {orange}{f}(x)dx$$\n",
    "\n",
    "💡 It can be viewed as the *area under the curve* $\\color {orange}{y=f(x)}$ delimited by the verticals $\\color {crimson} {x=a}$ and $\\color {teal} {x=b}$"
   ]
  },
  {
   "cell_type": "code",
   "execution_count": null,
   "id": "5c493141",
   "metadata": {},
   "outputs": [],
   "source": [
    "@interact(a=(-4, 4, 0.01), b=(-4, 4, 0.01))\n",
    "def plot_integral(a=-1, b=1):\n",
    "    # plot the curve\n",
    "    plot_curve_integral()\n",
    "    # plot the area\n",
    "    draw_area(a, b)\n",
    "    # annotate the graph\n",
    "    annotate_graph_integral(a, b)"
   ]
  }
 ],
 "metadata": {
  "kernelspec": {
   "display_name": "Python 3 (ipykernel)",
   "language": "python",
   "name": "python3"
  },
  "language_info": {
   "codemirror_mode": {
    "name": "ipython",
    "version": 3
   },
   "file_extension": ".py",
   "mimetype": "text/x-python",
   "name": "python",
   "nbconvert_exporter": "python",
   "pygments_lexer": "ipython3",
   "version": "3.10.6"
  },
  "toc": {
   "base_numbering": 1,
   "nav_menu": {},
   "number_sections": true,
   "sideBar": true,
   "skip_h1_title": false,
   "title_cell": "Table of Contents",
   "title_sidebar": "Contents",
   "toc_cell": false,
   "toc_position": {},
   "toc_section_display": true,
   "toc_window_display": false
  },
  "varInspector": {
   "cols": {
    "lenName": 16,
    "lenType": 16,
    "lenVar": 40
   },
   "kernels_config": {
    "python": {
     "delete_cmd_postfix": "",
     "delete_cmd_prefix": "del ",
     "library": "var_list.py",
     "varRefreshCmd": "print(var_dic_list())"
    },
    "r": {
     "delete_cmd_postfix": ") ",
     "delete_cmd_prefix": "rm(",
     "library": "var_list.r",
     "varRefreshCmd": "cat(var_dic_list()) "
    }
   },
   "types_to_exclude": [
    "module",
    "function",
    "builtin_function_or_method",
    "instance",
    "_Feature"
   ],
   "window_display": false
  },
  "vscode": {
   "interpreter": {
    "hash": "a8783e7c2a18747ae2bd1498f79a095ea483564422adedd0add03a25ebea4658"
   }
  }
 },
 "nbformat": 4,
 "nbformat_minor": 5
}
